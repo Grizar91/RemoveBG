{
 "cells": [
  {
   "cell_type": "code",
   "execution_count": 1,
   "id": "4a382d9b-31d7-4618-a6c4-f07a7f481247",
   "metadata": {},
   "outputs": [
    {
     "ename": "ModuleNotFoundError",
     "evalue": "No module named 'rembg'",
     "output_type": "error",
     "traceback": [
      "\u001b[0;31m---------------------------------------------------------------------------\u001b[0m",
      "\u001b[0;31mModuleNotFoundError\u001b[0m                       Traceback (most recent call last)",
      "\u001b[1;32m/workspaces/RemoveBG/RemoveBG.ipynb Cell 1\u001b[0m line \u001b[0;36m1\n\u001b[0;32m----> <a href='vscode-notebook-cell://codespaces%2Bsilver-space-meme-r4gx4pr54qvp3xqxv/workspaces/RemoveBG/RemoveBG.ipynb#W0sdnNjb2RlLXJlbW90ZQ%3D%3D?line=0'>1</a>\u001b[0m \u001b[39mfrom\u001b[39;00m \u001b[39mrembg\u001b[39;00m \u001b[39mimport\u001b[39;00m remove\n\u001b[1;32m      <a href='vscode-notebook-cell://codespaces%2Bsilver-space-meme-r4gx4pr54qvp3xqxv/workspaces/RemoveBG/RemoveBG.ipynb#W0sdnNjb2RlLXJlbW90ZQ%3D%3D?line=1'>2</a>\u001b[0m \u001b[39mfrom\u001b[39;00m \u001b[39mPIL\u001b[39;00m \u001b[39mimport\u001b[39;00m Image\n\u001b[1;32m      <a href='vscode-notebook-cell://codespaces%2Bsilver-space-meme-r4gx4pr54qvp3xqxv/workspaces/RemoveBG/RemoveBG.ipynb#W0sdnNjb2RlLXJlbW90ZQ%3D%3D?line=3'>4</a>\u001b[0m input_path \u001b[39m=\u001b[39m \u001b[39m\"\u001b[39m\u001b[39mkang.jpg\u001b[39m\u001b[39m\"\u001b[39m\n",
      "\u001b[0;31mModuleNotFoundError\u001b[0m: No module named 'rembg'"
     ]
    }
   ],
   "source": [
    "from rembg import remove\n",
    "from PIL import Image\n",
    "\n",
    "input_path = \"kang.jpg\"\n",
    "output_path = \"kang_bg.png\"\n",
    "inp = Image.open(input_path)\n",
    "output = remove(inp)\n",
    "output.save(output_path)"
   ]
  },
  {
   "cell_type": "code",
   "execution_count": null,
   "id": "9ae7fa14-5688-41ab-aaca-2fc93a28f558",
   "metadata": {},
   "outputs": [],
   "source": []
  }
 ],
 "metadata": {
  "kernelspec": {
   "display_name": "Python 3 (ipykernel)",
   "language": "python",
   "name": "python3"
  },
  "language_info": {
   "codemirror_mode": {
    "name": "ipython",
    "version": 3
   },
   "file_extension": ".py",
   "mimetype": "text/x-python",
   "name": "python",
   "nbconvert_exporter": "python",
   "pygments_lexer": "ipython3",
   "version": "3.10.8"
  }
 },
 "nbformat": 4,
 "nbformat_minor": 5
}
